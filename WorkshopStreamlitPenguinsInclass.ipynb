{
 "cells": [
  {
   "cell_type": "markdown",
   "id": "9643b51e-32e8-4df6-b481-3df6337e23b9",
   "metadata": {},
   "source": [
    "# Workshop: ML model deployment\n"
   ]
  },
  {
   "cell_type": "markdown",
   "id": "d9b33b9c-3dbd-4a91-a64f-d775878c7966",
   "metadata": {
    "tags": []
   },
   "source": [
    "## Prepare Data"
   ]
  },
  {
   "cell_type": "code",
   "execution_count": 1,
   "id": "e814e5c4-877c-4d83-9e00-00cb5979d76b",
   "metadata": {
    "tags": []
   },
   "outputs": [],
   "source": [
    "import numpy as np \n",
    "import pandas as pd \n"
   ]
  },
  {
   "cell_type": "code",
   "execution_count": 2,
   "id": "38e5ec2f-23ae-4252-a27b-b7359f7edb1f",
   "metadata": {
    "tags": []
   },
   "outputs": [
    {
     "data": {
      "text/html": [
       "<div>\n",
       "<style scoped>\n",
       "    .dataframe tbody tr th:only-of-type {\n",
       "        vertical-align: middle;\n",
       "    }\n",
       "\n",
       "    .dataframe tbody tr th {\n",
       "        vertical-align: top;\n",
       "    }\n",
       "\n",
       "    .dataframe thead th {\n",
       "        text-align: right;\n",
       "    }\n",
       "</style>\n",
       "<table border=\"1\" class=\"dataframe\">\n",
       "  <thead>\n",
       "    <tr style=\"text-align: right;\">\n",
       "      <th></th>\n",
       "      <th>species</th>\n",
       "      <th>island</th>\n",
       "      <th>culmen_length_mm</th>\n",
       "      <th>culmen_depth_mm</th>\n",
       "      <th>flipper_length_mm</th>\n",
       "      <th>body_mass_g</th>\n",
       "      <th>sex</th>\n",
       "    </tr>\n",
       "  </thead>\n",
       "  <tbody>\n",
       "    <tr>\n",
       "      <th>0</th>\n",
       "      <td>Adelie</td>\n",
       "      <td>Torgersen</td>\n",
       "      <td>39.1</td>\n",
       "      <td>18.7</td>\n",
       "      <td>181.0</td>\n",
       "      <td>3750.0</td>\n",
       "      <td>MALE</td>\n",
       "    </tr>\n",
       "    <tr>\n",
       "      <th>1</th>\n",
       "      <td>Adelie</td>\n",
       "      <td>Torgersen</td>\n",
       "      <td>39.5</td>\n",
       "      <td>17.4</td>\n",
       "      <td>186.0</td>\n",
       "      <td>3800.0</td>\n",
       "      <td>FEMALE</td>\n",
       "    </tr>\n",
       "    <tr>\n",
       "      <th>2</th>\n",
       "      <td>Adelie</td>\n",
       "      <td>Torgersen</td>\n",
       "      <td>40.3</td>\n",
       "      <td>18.0</td>\n",
       "      <td>195.0</td>\n",
       "      <td>3250.0</td>\n",
       "      <td>FEMALE</td>\n",
       "    </tr>\n",
       "    <tr>\n",
       "      <th>3</th>\n",
       "      <td>Adelie</td>\n",
       "      <td>Torgersen</td>\n",
       "      <td>NaN</td>\n",
       "      <td>NaN</td>\n",
       "      <td>NaN</td>\n",
       "      <td>NaN</td>\n",
       "      <td>NaN</td>\n",
       "    </tr>\n",
       "    <tr>\n",
       "      <th>4</th>\n",
       "      <td>Adelie</td>\n",
       "      <td>Torgersen</td>\n",
       "      <td>36.7</td>\n",
       "      <td>19.3</td>\n",
       "      <td>193.0</td>\n",
       "      <td>3450.0</td>\n",
       "      <td>FEMALE</td>\n",
       "    </tr>\n",
       "    <tr>\n",
       "      <th>...</th>\n",
       "      <td>...</td>\n",
       "      <td>...</td>\n",
       "      <td>...</td>\n",
       "      <td>...</td>\n",
       "      <td>...</td>\n",
       "      <td>...</td>\n",
       "      <td>...</td>\n",
       "    </tr>\n",
       "    <tr>\n",
       "      <th>339</th>\n",
       "      <td>Gentoo</td>\n",
       "      <td>Biscoe</td>\n",
       "      <td>NaN</td>\n",
       "      <td>NaN</td>\n",
       "      <td>NaN</td>\n",
       "      <td>NaN</td>\n",
       "      <td>NaN</td>\n",
       "    </tr>\n",
       "    <tr>\n",
       "      <th>340</th>\n",
       "      <td>Gentoo</td>\n",
       "      <td>Biscoe</td>\n",
       "      <td>46.8</td>\n",
       "      <td>14.3</td>\n",
       "      <td>215.0</td>\n",
       "      <td>4850.0</td>\n",
       "      <td>FEMALE</td>\n",
       "    </tr>\n",
       "    <tr>\n",
       "      <th>341</th>\n",
       "      <td>Gentoo</td>\n",
       "      <td>Biscoe</td>\n",
       "      <td>50.4</td>\n",
       "      <td>15.7</td>\n",
       "      <td>222.0</td>\n",
       "      <td>5750.0</td>\n",
       "      <td>MALE</td>\n",
       "    </tr>\n",
       "    <tr>\n",
       "      <th>342</th>\n",
       "      <td>Gentoo</td>\n",
       "      <td>Biscoe</td>\n",
       "      <td>45.2</td>\n",
       "      <td>14.8</td>\n",
       "      <td>212.0</td>\n",
       "      <td>5200.0</td>\n",
       "      <td>FEMALE</td>\n",
       "    </tr>\n",
       "    <tr>\n",
       "      <th>343</th>\n",
       "      <td>Gentoo</td>\n",
       "      <td>Biscoe</td>\n",
       "      <td>49.9</td>\n",
       "      <td>16.1</td>\n",
       "      <td>213.0</td>\n",
       "      <td>5400.0</td>\n",
       "      <td>MALE</td>\n",
       "    </tr>\n",
       "  </tbody>\n",
       "</table>\n",
       "<p>344 rows × 7 columns</p>\n",
       "</div>"
      ],
      "text/plain": [
       "    species     island  culmen_length_mm  culmen_depth_mm  flipper_length_mm  \\\n",
       "0    Adelie  Torgersen              39.1             18.7              181.0   \n",
       "1    Adelie  Torgersen              39.5             17.4              186.0   \n",
       "2    Adelie  Torgersen              40.3             18.0              195.0   \n",
       "3    Adelie  Torgersen               NaN              NaN                NaN   \n",
       "4    Adelie  Torgersen              36.7             19.3              193.0   \n",
       "..      ...        ...               ...              ...                ...   \n",
       "339  Gentoo     Biscoe               NaN              NaN                NaN   \n",
       "340  Gentoo     Biscoe              46.8             14.3              215.0   \n",
       "341  Gentoo     Biscoe              50.4             15.7              222.0   \n",
       "342  Gentoo     Biscoe              45.2             14.8              212.0   \n",
       "343  Gentoo     Biscoe              49.9             16.1              213.0   \n",
       "\n",
       "     body_mass_g     sex  \n",
       "0         3750.0    MALE  \n",
       "1         3800.0  FEMALE  \n",
       "2         3250.0  FEMALE  \n",
       "3            NaN     NaN  \n",
       "4         3450.0  FEMALE  \n",
       "..           ...     ...  \n",
       "339          NaN     NaN  \n",
       "340       4850.0  FEMALE  \n",
       "341       5750.0    MALE  \n",
       "342       5200.0  FEMALE  \n",
       "343       5400.0    MALE  \n",
       "\n",
       "[344 rows x 7 columns]"
      ]
     },
     "execution_count": 2,
     "metadata": {},
     "output_type": "execute_result"
    }
   ],
   "source": [
    "df_org = pd.read_csv(\"penguins_size.csv\")\n",
    "df_org"
   ]
  },
  {
   "cell_type": "code",
   "execution_count": 3,
   "id": "5a6c0f20-2640-417c-b185-5da9f1c298f5",
   "metadata": {
    "tags": []
   },
   "outputs": [],
   "source": [
    "df = df_org.copy()"
   ]
  },
  {
   "cell_type": "code",
   "execution_count": 4,
   "id": "4d646044-c09a-402e-8a26-5db68ab2a4ff",
   "metadata": {
    "tags": []
   },
   "outputs": [
    {
     "data": {
      "text/plain": [
       "species               0\n",
       "island                0\n",
       "culmen_length_mm      2\n",
       "culmen_depth_mm       2\n",
       "flipper_length_mm     2\n",
       "body_mass_g           2\n",
       "sex                  10\n",
       "dtype: int64"
      ]
     },
     "execution_count": 4,
     "metadata": {},
     "output_type": "execute_result"
    }
   ],
   "source": [
    "df.isna().sum()"
   ]
  },
  {
   "cell_type": "code",
   "execution_count": 5,
   "id": "e6462f2a-982f-4227-b31d-c4ef407fc6f5",
   "metadata": {
    "tags": []
   },
   "outputs": [
    {
     "data": {
      "text/plain": [
       "species              0.000000\n",
       "island               0.000000\n",
       "culmen_length_mm     0.581395\n",
       "culmen_depth_mm      0.581395\n",
       "flipper_length_mm    0.581395\n",
       "body_mass_g          0.581395\n",
       "sex                  2.906977\n",
       "dtype: float64"
      ]
     },
     "execution_count": 5,
     "metadata": {},
     "output_type": "execute_result"
    }
   ],
   "source": [
    "df.isna().sum()/len(df)*100"
   ]
  },
  {
   "cell_type": "code",
   "execution_count": 6,
   "id": "4e52ae71-cc85-4503-960b-f7d0ed8217fb",
   "metadata": {
    "tags": []
   },
   "outputs": [
    {
     "name": "stdout",
     "output_type": "stream",
     "text": [
      "['Adelie' 'Chinstrap' 'Gentoo']\n",
      "['Torgersen' 'Biscoe' 'Dream']\n",
      "['MALE' 'FEMALE' nan '.']\n"
     ]
    }
   ],
   "source": [
    "print(df['species'].unique())\n",
    "print(df['island'].unique())\n",
    "print(df['sex'].unique())"
   ]
  },
  {
   "cell_type": "code",
   "execution_count": 7,
   "id": "760903d7-5461-490b-b11e-2fbfdec564a3",
   "metadata": {
    "tags": []
   },
   "outputs": [
    {
     "data": {
      "text/plain": [
       "'MALE'"
      ]
     },
     "execution_count": 7,
     "metadata": {},
     "output_type": "execute_result"
    }
   ],
   "source": [
    "df['sex'].mode()[0]"
   ]
  },
  {
   "cell_type": "code",
   "execution_count": 8,
   "id": "930816d5-ea89-4171-aa97-a0da460f1207",
   "metadata": {
    "tags": []
   },
   "outputs": [],
   "source": [
    "df= df.dropna(subset = ['culmen_length_mm', 'culmen_depth_mm','flipper_length_mm', 'body_mass_g'])\n",
    "df['sex'] = df['sex'].fillna(df['sex'].mode()[0])\n",
    "df['sex'] = df['sex'].replace(to_replace='.', value = df['sex'].mode()[0])"
   ]
  },
  {
   "cell_type": "code",
   "execution_count": 9,
   "id": "3bbd7e00-eccd-400c-a446-2862adc62c83",
   "metadata": {
    "tags": []
   },
   "outputs": [
    {
     "data": {
      "text/plain": [
       "species              0.0\n",
       "island               0.0\n",
       "culmen_length_mm     0.0\n",
       "culmen_depth_mm      0.0\n",
       "flipper_length_mm    0.0\n",
       "body_mass_g          0.0\n",
       "sex                  0.0\n",
       "dtype: float64"
      ]
     },
     "execution_count": 9,
     "metadata": {},
     "output_type": "execute_result"
    }
   ],
   "source": [
    "df.isna().sum()/len(df)*100"
   ]
  },
  {
   "cell_type": "code",
   "execution_count": 10,
   "id": "157396fc-09d6-4a98-ad5b-961ef0ff27fa",
   "metadata": {
    "tags": []
   },
   "outputs": [
    {
     "name": "stdout",
     "output_type": "stream",
     "text": [
      "<class 'pandas.core.frame.DataFrame'>\n",
      "Int64Index: 342 entries, 0 to 343\n",
      "Data columns (total 7 columns):\n",
      " #   Column             Non-Null Count  Dtype  \n",
      "---  ------             --------------  -----  \n",
      " 0   species            342 non-null    object \n",
      " 1   island             342 non-null    object \n",
      " 2   culmen_length_mm   342 non-null    float64\n",
      " 3   culmen_depth_mm    342 non-null    float64\n",
      " 4   flipper_length_mm  342 non-null    float64\n",
      " 5   body_mass_g        342 non-null    float64\n",
      " 6   sex                342 non-null    object \n",
      "dtypes: float64(4), object(3)\n",
      "memory usage: 21.4+ KB\n"
     ]
    }
   ],
   "source": [
    "df.info()"
   ]
  },
  {
   "cell_type": "code",
   "execution_count": 11,
   "id": "afd956ab-4b3a-4f95-8f62-b822f21fda43",
   "metadata": {
    "tags": []
   },
   "outputs": [],
   "source": [
    "#Encoding the object columns.\n",
    "from sklearn.preprocessing import LabelEncoder\n",
    "\n",
    "species_encoder = LabelEncoder()\n",
    "island_encoder = LabelEncoder()\n",
    "sex_encoder = LabelEncoder()\n",
    "\n",
    "df['species'] = species_encoder.fit_transform(df['species'])\n",
    "df['island'] = island_encoder.fit_transform(df['island'])\n",
    "df['sex'] = sex_encoder.fit_transform(df['sex'])\n"
   ]
  },
  {
   "cell_type": "code",
   "execution_count": 12,
   "id": "aa7634ec-f3b4-4a68-a4e0-87ae792962cc",
   "metadata": {
    "tags": []
   },
   "outputs": [
    {
     "data": {
      "text/html": [
       "<div>\n",
       "<style scoped>\n",
       "    .dataframe tbody tr th:only-of-type {\n",
       "        vertical-align: middle;\n",
       "    }\n",
       "\n",
       "    .dataframe tbody tr th {\n",
       "        vertical-align: top;\n",
       "    }\n",
       "\n",
       "    .dataframe thead th {\n",
       "        text-align: right;\n",
       "    }\n",
       "</style>\n",
       "<table border=\"1\" class=\"dataframe\">\n",
       "  <thead>\n",
       "    <tr style=\"text-align: right;\">\n",
       "      <th></th>\n",
       "      <th>species</th>\n",
       "      <th>island</th>\n",
       "      <th>culmen_length_mm</th>\n",
       "      <th>culmen_depth_mm</th>\n",
       "      <th>flipper_length_mm</th>\n",
       "      <th>body_mass_g</th>\n",
       "      <th>sex</th>\n",
       "    </tr>\n",
       "  </thead>\n",
       "  <tbody>\n",
       "    <tr>\n",
       "      <th>0</th>\n",
       "      <td>0</td>\n",
       "      <td>2</td>\n",
       "      <td>39.1</td>\n",
       "      <td>18.7</td>\n",
       "      <td>181.0</td>\n",
       "      <td>3750.0</td>\n",
       "      <td>1</td>\n",
       "    </tr>\n",
       "    <tr>\n",
       "      <th>1</th>\n",
       "      <td>0</td>\n",
       "      <td>2</td>\n",
       "      <td>39.5</td>\n",
       "      <td>17.4</td>\n",
       "      <td>186.0</td>\n",
       "      <td>3800.0</td>\n",
       "      <td>0</td>\n",
       "    </tr>\n",
       "    <tr>\n",
       "      <th>2</th>\n",
       "      <td>0</td>\n",
       "      <td>2</td>\n",
       "      <td>40.3</td>\n",
       "      <td>18.0</td>\n",
       "      <td>195.0</td>\n",
       "      <td>3250.0</td>\n",
       "      <td>0</td>\n",
       "    </tr>\n",
       "    <tr>\n",
       "      <th>4</th>\n",
       "      <td>0</td>\n",
       "      <td>2</td>\n",
       "      <td>36.7</td>\n",
       "      <td>19.3</td>\n",
       "      <td>193.0</td>\n",
       "      <td>3450.0</td>\n",
       "      <td>0</td>\n",
       "    </tr>\n",
       "    <tr>\n",
       "      <th>5</th>\n",
       "      <td>0</td>\n",
       "      <td>2</td>\n",
       "      <td>39.3</td>\n",
       "      <td>20.6</td>\n",
       "      <td>190.0</td>\n",
       "      <td>3650.0</td>\n",
       "      <td>1</td>\n",
       "    </tr>\n",
       "  </tbody>\n",
       "</table>\n",
       "</div>"
      ],
      "text/plain": [
       "   species  island  culmen_length_mm  culmen_depth_mm  flipper_length_mm  \\\n",
       "0        0       2              39.1             18.7              181.0   \n",
       "1        0       2              39.5             17.4              186.0   \n",
       "2        0       2              40.3             18.0              195.0   \n",
       "4        0       2              36.7             19.3              193.0   \n",
       "5        0       2              39.3             20.6              190.0   \n",
       "\n",
       "   body_mass_g  sex  \n",
       "0       3750.0    1  \n",
       "1       3800.0    0  \n",
       "2       3250.0    0  \n",
       "4       3450.0    0  \n",
       "5       3650.0    1  "
      ]
     },
     "execution_count": 12,
     "metadata": {},
     "output_type": "execute_result"
    }
   ],
   "source": [
    "df.head()"
   ]
  },
  {
   "cell_type": "code",
   "execution_count": 13,
   "id": "7092e412-39ad-462a-96bc-38c816964b85",
   "metadata": {
    "tags": []
   },
   "outputs": [],
   "source": [
    "#  X = features and y = label/class.\n",
    "X = df.drop('species', axis=1)\n",
    "y = df['species']"
   ]
  },
  {
   "cell_type": "markdown",
   "id": "88f17595-f809-4da5-ab16-50f2b3b94231",
   "metadata": {
    "tags": []
   },
   "source": [
    "## Create Model & Evaluate "
   ]
  },
  {
   "cell_type": "code",
   "execution_count": 14,
   "id": "ef873aa8-ca11-4474-abc2-1c2ff9468803",
   "metadata": {
    "tags": []
   },
   "outputs": [],
   "source": [
    "from sklearn.model_selection import train_test_split\n",
    "from sklearn.metrics import accuracy_score,f1_score,precision_score,recall_score\n",
    "from sklearn.metrics import confusion_matrix, ConfusionMatrixDisplay, classification_report\n",
    "import matplotlib.pyplot as plt\n",
    "import seaborn as sns\n",
    "\n",
    "X_train,X_test,y_train,y_test=train_test_split(X,y, test_size=0.2, random_state=42)\n",
    "\n",
    "evaluations = pd.DataFrame(columns=['Accuracy','F1', 'Precision', 'Recall'], index=['Decision Tress', 'Random Forest', 'KNN', 'AdaBoost', 'XGBoost'])\n"
   ]
  },
  {
   "cell_type": "markdown",
   "id": "e620ab2b-e60e-4b15-808d-97fc3188681d",
   "metadata": {},
   "source": [
    "### Decision Tress "
   ]
  },
  {
   "cell_type": "code",
   "execution_count": 15,
   "id": "875e0436-e1ec-4bfe-a9c7-a56e2ea76ab4",
   "metadata": {},
   "outputs": [
    {
     "name": "stdout",
     "output_type": "stream",
     "text": [
      "Summary Evaluation: \n",
      "               precision    recall  f1-score   support\n",
      "\n",
      "           0     1.0000    0.9429    0.9706        35\n",
      "           1     0.9231    1.0000    0.9600        12\n",
      "           2     0.9565    1.0000    0.9778        22\n",
      "\n",
      "    accuracy                         0.9710        69\n",
      "   macro avg     0.9599    0.9810    0.9695        69\n",
      "weighted avg     0.9728    0.9710    0.9710        69\n",
      "\n",
      "               Accuracy    F1 Precision Recall\n",
      "Decision Tress     97.1  97.1     97.28   97.1\n",
      "Random Forest       NaN   NaN       NaN    NaN\n",
      "KNN                 NaN   NaN       NaN    NaN\n",
      "AdaBoost            NaN   NaN       NaN    NaN\n",
      "XGBoost             NaN   NaN       NaN    NaN\n"
     ]
    },
    {
     "data": {
      "image/png": "[encoded data removed]",
      "text/plain": [
       "<Figure size 504x504 with 2 Axes>"
      ]
     },
     "metadata": {
      "needs_background": "light"
     },
     "output_type": "display_data"
    }
   ],
   "source": [
    "from sklearn.tree import DecisionTreeClassifier\n",
    "\n",
    "dt_classifier= DecisionTreeClassifier()\n",
    "\n",
    "dt_classifier.fit(X_train,y_train)\n",
    "y_pred=dt_classifier.predict(X_test)\n",
    "\n",
    "summary_eval = classification_report(y_test,y_pred,digits=4)\n",
    "\n",
    "print(\"Summary Evaluation: \\n\",summary_eval)\n",
    "\n",
    "acc = round(accuracy_score(y_test,y_pred)*100,2)\n",
    "f1 = round(f1_score(y_test,y_pred,average='weighted')*100,2)\n",
    "pre = round(precision_score(y_test,y_pred,average='weighted')*100,2)\n",
    "rec = round(recall_score(y_test,y_pred,average='weighted')*100,2)\n",
    "\n",
    "evaluations.loc['Decision Tress'] = [acc,f1,pre,rec]\n",
    "print(evaluations)\n",
    "\n",
    "cfm = confusion_matrix(y_test,y_pred)\n",
    "plt.figure(figsize=(7,7))\n",
    "sns.heatmap(data=cfm,linewidth=3, annot=True, square=True, cmap='Blues')\n",
    "plt.xlabel(\"Predicted label\")\n",
    "plt.ylabel(\"Actual label\")\n",
    "plt.title(\"Confusion Matrix from Decision Tree Model\")\n",
    "plt.show()"
   ]
  },
  {
   "cell_type": "markdown",
   "id": "c08bcdf6-869d-4da7-a4e6-d69341cda3fd",
   "metadata": {},
   "source": [
    "### Random Forest "
   ]
  },
  {
   "cell_type": "code",
   "execution_count": 16,
   "id": "f667cd2e-d1fd-496e-b399-0ffef647ede9",
   "metadata": {},
   "outputs": [
    {
     "name": "stdout",
     "output_type": "stream",
     "text": [
      "Summary Evaluation: \n",
      "               precision    recall  f1-score   support\n",
      "\n",
      "           0     1.0000    0.9429    0.9706        35\n",
      "           1     0.8571    1.0000    0.9231        12\n",
      "           2     1.0000    1.0000    1.0000        22\n",
      "\n",
      "    accuracy                         0.9710        69\n",
      "   macro avg     0.9524    0.9810    0.9646        69\n",
      "weighted avg     0.9752    0.9710    0.9717        69\n",
      "\n",
      "               Accuracy     F1 Precision Recall\n",
      "Decision Tress     97.1   97.1     97.28   97.1\n",
      "Random Forest      97.1  97.17     97.52   97.1\n",
      "KNN                 NaN    NaN       NaN    NaN\n",
      "AdaBoost            NaN    NaN       NaN    NaN\n",
      "XGBoost             NaN    NaN       NaN    NaN\n"
     ]
    },
    {
     "data": {
      "image/png": "[encoded data removed]",
      "text/plain": [
       "<Figure size 504x504 with 2 Axes>"
      ]
     },
     "metadata": {
      "needs_background": "light"
     },
     "output_type": "display_data"
    }
   ],
   "source": [
    "from sklearn.ensemble import RandomForestClassifier\n",
    "\n",
    "rf_classifier=RandomForestClassifier(random_state=0)\n",
    "\n",
    "\n",
    "rf_classifier.fit(X_train,y_train)\n",
    "y_pred=rf_classifier.predict(X_test)\n",
    "\n",
    "summary_eval = classification_report(y_test,y_pred,digits=4)\n",
    "\n",
    "print(\"Summary Evaluation: \\n\",summary_eval)\n",
    "\n",
    "acc = round(accuracy_score(y_test,y_pred)*100,2)\n",
    "f1 = round(f1_score(y_test,y_pred,average='weighted')*100,2)\n",
    "pre = round(precision_score(y_test,y_pred,average='weighted')*100,2)\n",
    "rec = round(recall_score(y_test,y_pred,average='weighted')*100,2)\n",
    "\n",
    "evaluations.loc['Random Forest'] = [acc,f1,pre,rec]\n",
    "print(evaluations)\n",
    "\n",
    "cfm = confusion_matrix(y_test,y_pred)\n",
    "plt.figure(figsize=(7,7))\n",
    "sns.heatmap(data=cfm,linewidth=3, annot=True, square=True, cmap='Blues')\n",
    "plt.xlabel(\"Predicted label\")\n",
    "plt.ylabel(\"Actual label\")\n",
    "plt.title(\"Confusion Matrix from Decision Tree Model\")\n",
    "plt.show()\n"
   ]
  },
  {
   "cell_type": "markdown",
   "id": "578a2301-b09e-443f-833b-947df6811e2f",
   "metadata": {},
   "source": [
    "### KNN"
   ]
  },
  {
   "cell_type": "code",
   "execution_count": 17,
   "id": "cc97801b-370e-46c4-99db-1eb0522552ff",
   "metadata": {},
   "outputs": [
    {
     "name": "stdout",
     "output_type": "stream",
     "text": [
      "Summary Evaluation: \n",
      "               precision    recall  f1-score   support\n",
      "\n",
      "           0     0.7273    0.9143    0.8101        35\n",
      "           1     0.5000    0.0833    0.1429        12\n",
      "           2     0.9130    0.9545    0.9333        22\n",
      "\n",
      "    accuracy                         0.7826        69\n",
      "   macro avg     0.7134    0.6507    0.6288        69\n",
      "weighted avg     0.7470    0.7826    0.7334        69\n",
      "\n",
      "               Accuracy     F1 Precision Recall\n",
      "Decision Tress     97.1   97.1     97.28   97.1\n",
      "Random Forest      97.1  97.17     97.52   97.1\n",
      "KNN               78.26  73.34      74.7  78.26\n",
      "AdaBoost            NaN    NaN       NaN    NaN\n",
      "XGBoost             NaN    NaN       NaN    NaN\n"
     ]
    },
    {
     "data": {
      "image/png": "[encoded data removed]",
      "text/plain": [
       "<Figure size 504x504 with 2 Axes>"
      ]
     },
     "metadata": {
      "needs_background": "light"
     },
     "output_type": "display_data"
    }
   ],
   "source": [
    "from sklearn.neighbors import KNeighborsClassifier\n",
    "\n",
    "knn_classifier = KNeighborsClassifier()\n",
    "\n",
    "\n",
    "knn_classifier.fit(X_train,y_train)\n",
    "y_pred=knn_classifier.predict(X_test)\n",
    "\n",
    "summary_eval = classification_report(y_test,y_pred,digits=4)\n",
    "\n",
    "print(\"Summary Evaluation: \\n\",summary_eval)\n",
    "\n",
    "acc = round(accuracy_score(y_test,y_pred)*100,2)\n",
    "f1 = round(f1_score(y_test,y_pred,average='weighted')*100,2)\n",
    "pre = round(precision_score(y_test,y_pred,average='weighted')*100,2)\n",
    "rec = round(recall_score(y_test,y_pred,average='weighted')*100,2)\n",
    "\n",
    "evaluations.loc['KNN'] = [acc,f1,pre,rec]\n",
    "print(evaluations)\n",
    "\n",
    "cfm = confusion_matrix(y_test,y_pred)\n",
    "plt.figure(figsize=(7,7))\n",
    "sns.heatmap(data=cfm,linewidth=3, annot=True, square=True, cmap='Blues')\n",
    "plt.xlabel(\"Predicted label\")\n",
    "plt.ylabel(\"Actual label\")\n",
    "plt.title(\"Confusion Matrix from Decision Tree Model\")\n",
    "plt.show()"
   ]
  },
  {
   "cell_type": "markdown",
   "id": "9611df16-50fc-4e85-b28f-5ce4c7069ee3",
   "metadata": {},
   "source": [
    "### AdaBoost Classifier"
   ]
  },
  {
   "cell_type": "code",
   "execution_count": 18,
   "id": "b2e6af17-01a7-4800-8a9b-abf8f1b4e493",
   "metadata": {},
   "outputs": [
    {
     "name": "stderr",
     "output_type": "stream",
     "text": [
      "C:\\Users\\66832\\AppData\\Local\\Packages\\PythonSoftwareFoundation.Python.3.9_qbz5n2kfra8p0\\LocalCache\\local-packages\\Python39\\site-packages\\sklearn\\metrics\\_classification.py:1344: UndefinedMetricWarning: Precision and F-score are ill-defined and being set to 0.0 in labels with no predicted samples. Use `zero_division` parameter to control this behavior.\n",
      "  _warn_prf(average, modifier, msg_start, len(result))\n",
      "C:\\Users\\66832\\AppData\\Local\\Packages\\PythonSoftwareFoundation.Python.3.9_qbz5n2kfra8p0\\LocalCache\\local-packages\\Python39\\site-packages\\sklearn\\metrics\\_classification.py:1344: UndefinedMetricWarning: Precision and F-score are ill-defined and being set to 0.0 in labels with no predicted samples. Use `zero_division` parameter to control this behavior.\n",
      "  _warn_prf(average, modifier, msg_start, len(result))\n",
      "C:\\Users\\66832\\AppData\\Local\\Packages\\PythonSoftwareFoundation.Python.3.9_qbz5n2kfra8p0\\LocalCache\\local-packages\\Python39\\site-packages\\sklearn\\metrics\\_classification.py:1344: UndefinedMetricWarning: Precision and F-score are ill-defined and being set to 0.0 in labels with no predicted samples. Use `zero_division` parameter to control this behavior.\n",
      "  _warn_prf(average, modifier, msg_start, len(result))\n",
      "C:\\Users\\66832\\AppData\\Local\\Packages\\PythonSoftwareFoundation.Python.3.9_qbz5n2kfra8p0\\LocalCache\\local-packages\\Python39\\site-packages\\sklearn\\metrics\\_classification.py:1344: UndefinedMetricWarning: Precision is ill-defined and being set to 0.0 in labels with no predicted samples. Use `zero_division` parameter to control this behavior.\n",
      "  _warn_prf(average, modifier, msg_start, len(result))\n"
     ]
    },
    {
     "name": "stdout",
     "output_type": "stream",
     "text": [
      "Summary Evaluation: \n",
      "               precision    recall  f1-score   support\n",
      "\n",
      "           0     0.7292    1.0000    0.8434        35\n",
      "           1     0.0000    0.0000    0.0000        12\n",
      "           2     1.0000    0.9545    0.9767        22\n",
      "\n",
      "    accuracy                         0.8116        69\n",
      "   macro avg     0.5764    0.6515    0.6067        69\n",
      "weighted avg     0.6887    0.8116    0.7392        69\n",
      "\n",
      "               Accuracy     F1 Precision Recall\n",
      "Decision Tress     97.1   97.1     97.28   97.1\n",
      "Random Forest      97.1  97.17     97.52   97.1\n",
      "KNN               78.26  73.34      74.7  78.26\n",
      "AdaBoost          81.16  73.92     68.87  81.16\n",
      "XGBoost             NaN    NaN       NaN    NaN\n"
     ]
    },
    {
     "data": {
      "image/png": "[encoded data removed]",
      "text/plain": [
       "<Figure size 504x504 with 2 Axes>"
      ]
     },
     "metadata": {
      "needs_background": "light"
     },
     "output_type": "display_data"
    }
   ],
   "source": [
    "from sklearn.ensemble import AdaBoostClassifier\n",
    "ada_classifier = AdaBoostClassifier()\n",
    "\n",
    "ada_classifier.fit(X_train,y_train)\n",
    "y_pred=ada_classifier.predict(X_test)\n",
    "\n",
    "summary_eval = classification_report(y_test,y_pred,digits=4)\n",
    "\n",
    "print(\"Summary Evaluation: \\n\",summary_eval)\n",
    "\n",
    "acc = round(accuracy_score(y_test,y_pred)*100,2)\n",
    "f1 = round(f1_score(y_test,y_pred,average='weighted')*100,2)\n",
    "pre = round(precision_score(y_test,y_pred,average='weighted')*100,2)\n",
    "rec = round(recall_score(y_test,y_pred,average='weighted')*100,2)\n",
    "\n",
    "evaluations.loc['AdaBoost'] = [acc,f1,pre,rec]\n",
    "print(evaluations)\n",
    "\n",
    "cfm = confusion_matrix(y_test,y_pred)\n",
    "plt.figure(figsize=(7,7))\n",
    "sns.heatmap(data=cfm,linewidth=3, annot=True, square=True, cmap='Blues')\n",
    "plt.xlabel(\"Predicted label\")\n",
    "plt.ylabel(\"Actual label\")\n",
    "plt.title(\"Confusion Matrix from AdaBoost Model\")\n",
    "plt.show()\n",
    "\n",
    "\n",
    "\n"
   ]
  },
  {
   "cell_type": "markdown",
   "id": "31de73d4-6c24-491f-b1e8-ae2e3389d36f",
   "metadata": {},
   "source": [
    "### XGBoost"
   ]
  },
  {
   "cell_type": "code",
   "execution_count": 20,
   "id": "c251139d-6d7a-4669-ac1a-372a2f4c8db8",
   "metadata": {},
   "outputs": [
    {
     "name": "stdout",
     "output_type": "stream",
     "text": [
      "Summary Evaluation: \n",
      "               precision    recall  f1-score   support\n",
      "\n",
      "           0     0.9429    0.9429    0.9429        35\n",
      "           1     0.8333    0.8333    0.8333        12\n",
      "           2     1.0000    1.0000    1.0000        22\n",
      "\n",
      "    accuracy                         0.9420        69\n",
      "   macro avg     0.9254    0.9254    0.9254        69\n",
      "weighted avg     0.9420    0.9420    0.9420        69\n",
      "\n",
      "               Accuracy     F1 Precision Recall\n",
      "Decision Tress     97.1   97.1     97.28   97.1\n",
      "Random Forest      97.1  97.17     97.52   97.1\n",
      "KNN               78.26  73.34      74.7  78.26\n",
      "AdaBoost          81.16  73.92     68.87  81.16\n",
      "XGBoost            94.2   94.2      94.2   94.2\n"
     ]
    },
    {
     "data": {
      "image/png": "[encoded data removed]",
      "text/plain": [
       "<Figure size 504x504 with 2 Axes>"
      ]
     },
     "metadata": {
      "needs_background": "light"
     },
     "output_type": "display_data"
    }
   ],
   "source": [
    "\n",
    "from xgboost import XGBClassifier\n",
    "\n",
    "xgb_classifier = XGBClassifier(n_estimators=2, max_depth=2, learning_rate=1, objective='binary:logistic')\n",
    "\n",
    "\n",
    "xgb_classifier.fit(X_train,y_train)\n",
    "y_pred=xgb_classifier.predict(X_test)\n",
    "\n",
    "summary_eval = classification_report(y_test,y_pred,digits=4)\n",
    "\n",
    "print(\"Summary Evaluation: \\n\",summary_eval)\n",
    "\n",
    "acc = round(accuracy_score(y_test,y_pred)*100,2)\n",
    "f1 = round(f1_score(y_test,y_pred,average='weighted')*100,2)\n",
    "pre = round(precision_score(y_test,y_pred,average='weighted')*100,2)\n",
    "rec = round(recall_score(y_test,y_pred,average='weighted')*100,2)\n",
    "\n",
    "evaluations.loc['XGBoost'] = [acc,f1,pre,rec]\n",
    "print(evaluations)\n",
    "\n",
    "cfm = confusion_matrix(y_test,y_pred)\n",
    "plt.figure(figsize=(7,7))\n",
    "sns.heatmap(data=cfm,linewidth=3, annot=True, square=True, cmap='Blues')\n",
    "plt.xlabel(\"Predicted label\")\n",
    "plt.ylabel(\"Actual label\")\n",
    "plt.title(\"Confusion Matrix from XGBoost Model\")\n",
    "plt.show()\n",
    "\n",
    "\n"
   ]
  },
  {
   "cell_type": "markdown",
   "id": "d26b7615-17ff-4acc-abfa-786a2aa4d3d1",
   "metadata": {},
   "source": [
    "### All Evaluations"
   ]
  },
  {
   "cell_type": "code",
   "execution_count": null,
   "id": "21f95f1b-03ec-4834-b63a-c187142d06ae",
   "metadata": {},
   "outputs": [],
   "source": [
    "evaluations"
   ]
  },
  {
   "cell_type": "markdown",
   "id": "b064eff8-4a3b-4d11-9d3a-41bd1677d6c2",
   "metadata": {
    "tags": []
   },
   "source": [
    "## Create Model &  Save Model"
   ]
  },
  {
   "cell_type": "code",
   "execution_count": 21,
   "id": "b427f969-17d6-43e3-906d-ee2b842ad400",
   "metadata": {},
   "outputs": [],
   "source": [
    "# Random Forest outperform others\n",
    "import pickle\n",
    "from sklearn.ensemble import RandomForestClassifier\n",
    "\n",
    "model=RandomForestClassifier(random_state=0)\n",
    "model.fit(X,y)\n",
    "\n",
    "pickle.dump(model, open('model.penguins.sav', 'wb'))\n",
    "pickle.dump(species_encoder, open('encoder.species.sav', 'wb'))\n",
    "pickle.dump(island_encoder, open('encoder.island.sav', 'wb'))\n",
    "pickle.dump(sex_encoder, open('encoder.sex.sav', 'wb'))\n",
    "pickle.dump(evaluations, open('evals.all.sav', 'wb'))\n",
    "\n"
   ]
  },
  {
   "cell_type": "markdown",
   "id": "69c51ef0-789e-42e7-99e5-c3735bd0f018",
   "metadata": {
    "tags": []
   },
   "source": [
    "## Create file.py for Running with Command Line "
   ]
  },
  {
   "cell_type": "code",
   "execution_count": 22,
   "id": "8ea40d07-69e8-49c8-ac77-db3a19b99f11",
   "metadata": {},
   "outputs": [
    {
     "name": "stdout",
     "output_type": "stream",
     "text": [
      "Predicted Species:  Adelie\n"
     ]
    }
   ],
   "source": [
    "\n",
    "import numpy as np\n",
    "import pandas as pd\n",
    "import pickle\n",
    "from sklearn.preprocessing import LabelEncoder\n",
    "from sklearn.ensemble import RandomForestClassifier\n",
    "\n",
    "model = pickle.load(open('model.penguins.sav','rb'))\n",
    "species_encoder = pickle.load(open('encoder.species.sav','rb'))\n",
    "island_encoder = pickle.load(open('encoder.island.sav','rb'))\n",
    "sex_encoder = pickle.load(open('encoder.sex.sav','rb'))\n",
    "evaluations = pickle.load(open('evals.all.sav','rb'))\n",
    "\n",
    "x1= ['Torgersen']\n",
    "x1= island_encoder.transform(x1)[0]\n",
    "x2 =37.0\n",
    "x3 =19.3\n",
    "x4 =192.3\n",
    "x5 = 3750.0\n",
    "x6 = ['MALE']\n",
    "x6 = sex_encoder.transform(x6)[0]\n",
    "\n",
    "x_new = pd.DataFrame(data=np.array([x1, x2, x3, x4, x5, x6]).reshape(1,-1), \n",
    "             columns=['island', 'culmen_length_mm', 'culmen_depth_mm','flipper_length_mm', 'body_mass_g', 'sex'])\n",
    "\n",
    "pred = model.predict(x_new)\n",
    "print('Predicted Species: ' , species_encoder.inverse_transform(pred)[0])\n",
    "\n",
    "    "
   ]
  },
  {
   "cell_type": "code",
   "execution_count": null,
   "id": "736dddbe-99aa-4862-8fc1-93f94dffa85f",
   "metadata": {},
   "outputs": [],
   "source": [
    "%%writefile predict_penguin.py\n",
    "\n",
    "import numpy as np\n",
    "import pandas as pd\n",
    "import pickle\n",
    "from sklearn.preprocessing import LabelEncoder\n",
    "from sklearn.ensemble import RandomForestClassifier\n",
    "\n",
    "model = pickle.load(open('model.penguins.sav','rb'))\n",
    "species_encoder = pickle.load(open('encoder.species.sav','rb'))\n",
    "island_encoder = pickle.load(open('encoder.island.sav','rb'))\n",
    "sex_encoder = pickle.load(open('encoder.sex.sav','rb'))\n",
    "evaluations = pickle.load(open('evals.all.sav','rb'))\n",
    "\n",
    "print('island list: ', island_encoder.classes_)\n",
    "x1= input(\"Enter island >> \")  #['Torgersen']\n",
    "\n",
    "while ([x1] not in island_encoder.classes_):\n",
    "    print(\"Try again, select from this list: \", island_encoder.classes_)\n",
    "    x1= input('Enter island >> ') \n",
    "    \n",
    "x1= island_encoder.transform([x1])[0]\n",
    "\n",
    "x2 = float(input('Enter culmen length (mm) >> ')) #37.0\n",
    "x3 = float(input('Enter culmen depth (mm) >> ')) #19.3\n",
    "x4 = float(input('Enter flipper length (mm) >> ')) #192.3\n",
    "x5 = float(input('Enter body mass (g) >> ')) #3750.0\n",
    "\n",
    "print('sex list: ',sex_encoder.classes_ )\n",
    "x6 = input('Enter sex >> ')  # ['MALE']\n",
    "while ([x6] not in sex_encoder.classes_):\n",
    "    print(\"Try again, select from this list: \", sex_encoder.classes_)\n",
    "    x6= input('Enter sex >> ') \n",
    "x6 = sex_encoder.transform([x6])[0]\n",
    "\n",
    "x_new = pd.DataFrame(data=np.array([x1, x2, x3, x4, x5, x6]).reshape(1,-1), \n",
    "             columns=['island', 'culmen_length_mm', 'culmen_depth_mm','flipper_length_mm', 'body_mass_g', 'sex'])\n",
    "\n",
    "pred = model.predict(x_new)\n",
    "print('Predicted Species: ' , species_encoder.inverse_transform(pred)[0])\n"
   ]
  },
  {
   "cell_type": "markdown",
   "id": "effaa7d4-875f-4617-a503-48e6fa2aa49e",
   "metadata": {
    "tags": []
   },
   "source": [
    "## Deploy Model for Web App using Streamlit\n",
    "- pip install streamlit\n",
    "- https://docs.streamlit.io/knowledge-base/using-streamlit/how-do-i-run-my-streamlit-script\n",
    "- https://docs.streamlit.io/library/api-reference\n",
    "- https://streamlit.io/\n",
    "- https://github.com/"
   ]
  },
  {
   "cell_type": "code",
   "execution_count": 23,
   "id": "828c45c7-6014-41d1-acb7-c33a092d236b",
   "metadata": {},
   "outputs": [
    {
     "name": "stdout",
     "output_type": "stream",
     "text": [
      "Writing app_predict_penguin.py\n"
     ]
    }
   ],
   "source": [
    "%%writefile app_predict_penguin.py\n",
    "\n",
    "import numpy as np\n",
    "import pandas as pd\n",
    "import pickle\n",
    "from sklearn.preprocessing import LabelEncoder\n",
    "from sklearn.ensemble import RandomForestClassifier\n",
    "import streamlit as st \n",
    "\n",
    "model = pickle.load(open('model.penguins.sav','rb'))\n",
    "species_encoder = pickle.load(open('encoder.species.sav','rb'))\n",
    "island_encoder = pickle.load(open('encoder.island.sav','rb'))\n",
    "sex_encoder = pickle.load(open('encoder.sex.sav','rb'))\n",
    "evaluations = pickle.load(open('evals.all.sav','rb'))\n",
    "\n",
    "st.title('Penguin Species Prection :) ')\n",
    "\n",
    "x1 = st.radio('Select island', island_encoder.classes_)\n",
    "x1 = island_encoder.transform([x1])[0]\n",
    "# x1 \n",
    "x2 = st.slider('Select culmen length (mm)', 25, 70, 40)\n",
    "x3 = st.slider(\"เลือก culmen depth (mm)\", 10,30,15 )\n",
    "x4 = st.slider(\"เลือก flipper length (mm)\", 150,250,200)\n",
    "x5 = st.slider(\"เลือก body mass (g)\", 2500,6500,3000)\n",
    "x6 = st.radio(\"เลือก sex \",sex_encoder.classes_)\n",
    "x6 = sex_encoder.transform([x6])[0]\n",
    "\n",
    "x_new = pd.DataFrame(data=np.array([x1, x2, x3, x4, x5, x6]).reshape(1,-1), \n",
    "             columns=['island', 'culmen_length_mm', 'culmen_depth_mm','flipper_length_mm', 'body_mass_g', 'sex'])\n",
    "\n",
    "pred = model.predict(x_new)\n",
    "\n",
    "st.write('Predicted Species: ' , species_encoder.inverse_transform(pred)[0])\n",
    "\n"
   ]
  },
  {
   "cell_type": "code",
   "execution_count": 24,
   "id": "2938086f-d221-428a-823f-78d2e3cecc69",
   "metadata": {},
   "outputs": [
    {
     "data": {
      "text/plain": [
       "59.6"
      ]
     },
     "execution_count": 24,
     "metadata": {},
     "output_type": "execute_result"
    }
   ],
   "source": [
    "df['culmen_length_mm'].max()"
   ]
  },
  {
   "cell_type": "code",
   "execution_count": 25,
   "id": "105ecad7-a4c7-48c1-896a-c66aea0ce8ff",
   "metadata": {},
   "outputs": [
    {
     "data": {
      "text/plain": [
       "Index(['species', 'island', 'culmen_length_mm', 'culmen_depth_mm',\n",
       "       'flipper_length_mm', 'body_mass_g', 'sex'],\n",
       "      dtype='object')"
      ]
     },
     "execution_count": 25,
     "metadata": {},
     "output_type": "execute_result"
    }
   ],
   "source": [
    "df.columns"
   ]
  },
  {
   "cell_type": "code",
   "execution_count": 26,
   "id": "f43033ca-211b-4ccd-a70e-067e5400821e",
   "metadata": {},
   "outputs": [
    {
     "name": "stdout",
     "output_type": "stream",
     "text": [
      "Writing app_penguin.py\n"
     ]
    }
   ],
   "source": [
    "%%writefile app_penguin.py\n",
    "\n",
    "import streamlit as st \n",
    "from streamlit_option_menu import option_menu\n",
    "import plotly.graph_objects as px\n",
    "import numpy as np\n",
    "import pandas as pd\n",
    "import pickle\n",
    "from sklearn.preprocessing import LabelEncoder\n",
    "from sklearn.ensemble import RandomForestClassifier\n",
    "\n",
    "\n",
    "model = pickle.load(open('model.penguins.sav','rb'))\n",
    "species_encoder = pickle.load(open('encoder.species.sav','rb'))\n",
    "island_encoder = pickle.load(open('encoder.island.sav','rb'))\n",
    "sex_encoder = pickle.load(open('encoder.sex.sav','rb'))\n",
    "evaluations = pickle.load(open('evals.all.sav','rb'))\n",
    "\n",
    "\n",
    "st.set_page_config(\n",
    "    page_title=\"Penguin\",\n",
    "    layout=\"wide\"\n",
    ")\n",
    "\n",
    "st.title(\"Penguin Species Predition\")\n",
    "\n",
    "'''\n",
    "## Penguin .... ^.^ \n",
    "\n",
    "เพกวินเป็นนก ... แต่บินไม่ได้\n",
    "\n",
    "'''\n",
    "    \n",
    "with st.sidebar:\n",
    "        menuItem = option_menu(\"Penguin\",\n",
    "                               [\"Prediction\", \"Evaluation\"],\n",
    "                               icons=[\"magic\", \"file-bar-graph-fill\"],\n",
    "                               menu_icon='house',\n",
    "                               default_index=0,\n",
    "                               styles={\n",
    "                                   \"container\": {\"padding\": \"5!important\", \"background-color\": \"#fafafa\"},\n",
    "                                   \"icon\": {\"color\": \"black\", \"font-size\": \"25px\"},\n",
    "                                   \"nav-link\": {\"font-size\": \"16px\", \"text-align\": \"left\", \"margin\": \"0px\",\n",
    "                                                \"--hover-color\": \"#eee\"},\n",
    "                                   \"nav-link-selected\": {\"background-color\": \"#037ffc\"},\n",
    "                               })\n",
    "\n",
    "        \n",
    "if menuItem == \"Prediction\":\n",
    "    \n",
    "    x1 = st.radio(\"เลือก island \",island_encoder.classes_)\n",
    "    x1 = island_encoder.transform([x1])[0]\n",
    "    x2 = st.slider(\"เลือก culmen length (mm)\", 20,70,35 )\n",
    "    x3 = st.slider(\"เลือก culmen depth (mm)\", 10,30,15 )\n",
    "    x4 = st.slider(\"เลือก flipper length (mm)\", 150,250,200)\n",
    "    x5 = st.slider(\"เลือก body mass (g)\", 2500,6500,3000)\n",
    "    x6 = st.radio(\"เลือก sex \",sex_encoder.classes_)\n",
    "    x6 = sex_encoder.transform([x6])[0]\n",
    "    x_new = pd.DataFrame(data=np.array([x1, x2, x3, x4, x5, x6]).reshape(1,-1), \n",
    "                 columns=['island', 'culmen_length_mm', 'culmen_depth_mm','flipper_length_mm', 'body_mass_g', 'sex'])\n",
    "\n",
    "    pred = model.predict(x_new)\n",
    "\n",
    "    html_str = f\"\"\"\n",
    "    <style>\n",
    "    p.a {{\n",
    "      font: bold {30}px Courier;\n",
    "    }}\n",
    "    </style>\n",
    "    <p class=\"a\">{species_encoder.inverse_transform(pred)[0]}</p>\n",
    "    \"\"\"\n",
    "\n",
    "    st.markdown('### Predicted Species: ' )\n",
    "    st.markdown(html_str, unsafe_allow_html=True)\n",
    "\n",
    "if menuItem == \"Evaluation\":\n",
    "   \n",
    "    x = evaluations.columns\n",
    "    fig = px.Figure(data=[\n",
    "        px.Bar(name = 'Decision Tree',\n",
    "               x = x,\n",
    "               y = evaluations.loc['Decision Tress']),\n",
    "        px.Bar(name = 'Random Forest',\n",
    "               x = x,\n",
    "               y =  evaluations.loc['Random Forest']),\n",
    "        px.Bar(name = 'KNN',\n",
    "               x = x,\n",
    "               y =  evaluations.loc['KNN']),\n",
    "        px.Bar(name = 'AdaBoost',\n",
    "               x = x,\n",
    "               y =  evaluations.loc['AdaBoost']),\n",
    "        px.Bar(name = 'XGBoost',\n",
    "               x = x,\n",
    "               y =  evaluations.loc['XGBoost'])\n",
    "    ])\n",
    "    st.plotly_chart(fig, use_container_width=True)\n",
    "\n",
    "    st.dataframe(evaluations)\n",
    "    "
   ]
  },
  {
   "attachments": {
    "41a7e07d-aded-45ea-b3ea-5f256d0c1c14.png": {
     "image/png": "[encoded data removed]"
    }
   },
   "cell_type": "markdown",
   "id": "c4f25368-ec40-45d3-99ab-24bcd9dd76b6",
   "metadata": {},
   "source": [
    "![deploy-streamlit.png](attachment:41a7e07d-aded-45ea-b3ea-5f256d0c1c14.png)"
   ]
  },
  {
   "cell_type": "code",
   "execution_count": null,
   "id": "8afdfadc-310e-4145-97c5-5fe673b3ebd3",
   "metadata": {},
   "outputs": [],
   "source": []
  }
 ],
 "metadata": {
  "kernelspec": {
   "display_name": "Python 3 (ipykernel)",
   "language": "python",
   "name": "python3"
  },
  "language_info": {
   "codemirror_mode": {
    "name": "ipython",
    "version": 3
   },
   "file_extension": ".py",
   "mimetype": "text/x-python",
   "name": "python",
   "nbconvert_exporter": "python",
   "pygments_lexer": "ipython3",
   "version": "3.9.13"
  }
 },
 "nbformat": 4,
 "nbformat_minor": 5
}
